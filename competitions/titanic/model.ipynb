{
 "cells": [
  {
   "cell_type": "code",
   "execution_count": 2,
   "metadata": {
    "collapsed": true
   },
   "outputs": [
    {
     "name": "stdout",
     "output_type": "stream",
     "text": [
      "   PassengerId  Survived  Pclass  \\\n",
      "0            1         0       3   \n",
      "1            2         1       1   \n",
      "2            3         1       3   \n",
      "3            4         1       1   \n",
      "4            5         0       3   \n",
      "\n",
      "                                                Name     Sex   Age  SibSp  \\\n",
      "0                            Braund, Mr. Owen Harris    male  22.0      1   \n",
      "1  Cumings, Mrs. John Bradley (Florence Briggs Th...  female  38.0      1   \n",
      "2                             Heikkinen, Miss. Laina  female  26.0      0   \n",
      "3       Futrelle, Mrs. Jacques Heath (Lily May Peel)  female  35.0      1   \n",
      "4                           Allen, Mr. William Henry    male  35.0      0   \n",
      "\n",
      "   Parch            Ticket     Fare Cabin Embarked  \n",
      "0      0         A/5 21171   7.2500   NaN        S  \n",
      "1      0          PC 17599  71.2833   C85        C  \n",
      "2      0  STON/O2. 3101282   7.9250   NaN        S  \n",
      "3      0            113803  53.1000  C123        S  \n",
      "4      0            373450   8.0500   NaN        S  \n"
     ]
    }
   ],
   "source": [
    "# https://www.kaggle.com/c/titanic/overview\n",
    "import numpy as np\n",
    "import pandas as pd\n",
    "train_data = pd.read_csv(\"./tmp/data/train.csv\")\n",
    "test_data = pd.read_csv(\"./tmp/data/test.csv\")\n",
    "print(train_data.head())"
   ]
  },
  {
   "cell_type": "code",
   "execution_count": 3,
   "outputs": [
    {
     "name": "stdout",
     "output_type": "stream",
     "text": [
      "<class 'pandas.core.frame.DataFrame'>\n",
      "RangeIndex: 891 entries, 0 to 890\n",
      "Data columns (total 12 columns):\n",
      " #   Column       Non-Null Count  Dtype  \n",
      "---  ------       --------------  -----  \n",
      " 0   PassengerId  891 non-null    int64  \n",
      " 1   Survived     891 non-null    int64  \n",
      " 2   Pclass       891 non-null    int64  \n",
      " 3   Name         891 non-null    object \n",
      " 4   Sex          891 non-null    object \n",
      " 5   Age          714 non-null    float64\n",
      " 6   SibSp        891 non-null    int64  \n",
      " 7   Parch        891 non-null    int64  \n",
      " 8   Ticket       891 non-null    object \n",
      " 9   Fare         891 non-null    float64\n",
      " 10  Cabin        204 non-null    object \n",
      " 11  Embarked     889 non-null    object \n",
      "dtypes: float64(2), int64(5), object(5)\n",
      "memory usage: 83.7+ KB\n"
     ]
    }
   ],
   "source": [
    "# Pclass       社会阶层\n",
    "# SibSp        船上兄弟个数\n",
    "# Parch        家庭成员个数\n",
    "# ticket 船票的ID\n",
    "# fare 船票价格\n",
    "# cabin 船舱ID\n",
    "# embarked 登录地\n",
    "train_data.info()"
   ],
   "metadata": {
    "collapsed": false,
    "pycharm": {
     "name": "#%%\n"
    }
   }
  },
  {
   "cell_type": "code",
   "execution_count": 4,
   "outputs": [
    {
     "data": {
      "text/plain": "       PassengerId    Survived      Pclass         Age       SibSp  \\\ncount   891.000000  891.000000  891.000000  714.000000  891.000000   \nmean    446.000000    0.383838    2.308642   29.699118    0.523008   \nstd     257.353842    0.486592    0.836071   14.526497    1.102743   \nmin       1.000000    0.000000    1.000000    0.420000    0.000000   \n25%     223.500000    0.000000    2.000000   20.125000    0.000000   \n50%     446.000000    0.000000    3.000000   28.000000    0.000000   \n75%     668.500000    1.000000    3.000000   38.000000    1.000000   \nmax     891.000000    1.000000    3.000000   80.000000    8.000000   \n\n            Parch        Fare  \ncount  891.000000  891.000000  \nmean     0.381594   32.204208  \nstd      0.806057   49.693429  \nmin      0.000000    0.000000  \n25%      0.000000    7.910400  \n50%      0.000000   14.454200  \n75%      0.000000   31.000000  \nmax      6.000000  512.329200  ",
      "text/html": "<div>\n<style scoped>\n    .dataframe tbody tr th:only-of-type {\n        vertical-align: middle;\n    }\n\n    .dataframe tbody tr th {\n        vertical-align: top;\n    }\n\n    .dataframe thead th {\n        text-align: right;\n    }\n</style>\n<table border=\"1\" class=\"dataframe\">\n  <thead>\n    <tr style=\"text-align: right;\">\n      <th></th>\n      <th>PassengerId</th>\n      <th>Survived</th>\n      <th>Pclass</th>\n      <th>Age</th>\n      <th>SibSp</th>\n      <th>Parch</th>\n      <th>Fare</th>\n    </tr>\n  </thead>\n  <tbody>\n    <tr>\n      <th>count</th>\n      <td>891.000000</td>\n      <td>891.000000</td>\n      <td>891.000000</td>\n      <td>714.000000</td>\n      <td>891.000000</td>\n      <td>891.000000</td>\n      <td>891.000000</td>\n    </tr>\n    <tr>\n      <th>mean</th>\n      <td>446.000000</td>\n      <td>0.383838</td>\n      <td>2.308642</td>\n      <td>29.699118</td>\n      <td>0.523008</td>\n      <td>0.381594</td>\n      <td>32.204208</td>\n    </tr>\n    <tr>\n      <th>std</th>\n      <td>257.353842</td>\n      <td>0.486592</td>\n      <td>0.836071</td>\n      <td>14.526497</td>\n      <td>1.102743</td>\n      <td>0.806057</td>\n      <td>49.693429</td>\n    </tr>\n    <tr>\n      <th>min</th>\n      <td>1.000000</td>\n      <td>0.000000</td>\n      <td>1.000000</td>\n      <td>0.420000</td>\n      <td>0.000000</td>\n      <td>0.000000</td>\n      <td>0.000000</td>\n    </tr>\n    <tr>\n      <th>25%</th>\n      <td>223.500000</td>\n      <td>0.000000</td>\n      <td>2.000000</td>\n      <td>20.125000</td>\n      <td>0.000000</td>\n      <td>0.000000</td>\n      <td>7.910400</td>\n    </tr>\n    <tr>\n      <th>50%</th>\n      <td>446.000000</td>\n      <td>0.000000</td>\n      <td>3.000000</td>\n      <td>28.000000</td>\n      <td>0.000000</td>\n      <td>0.000000</td>\n      <td>14.454200</td>\n    </tr>\n    <tr>\n      <th>75%</th>\n      <td>668.500000</td>\n      <td>1.000000</td>\n      <td>3.000000</td>\n      <td>38.000000</td>\n      <td>1.000000</td>\n      <td>0.000000</td>\n      <td>31.000000</td>\n    </tr>\n    <tr>\n      <th>max</th>\n      <td>891.000000</td>\n      <td>1.000000</td>\n      <td>3.000000</td>\n      <td>80.000000</td>\n      <td>8.000000</td>\n      <td>6.000000</td>\n      <td>512.329200</td>\n    </tr>\n  </tbody>\n</table>\n</div>"
     },
     "execution_count": 4,
     "metadata": {},
     "output_type": "execute_result"
    }
   ],
   "source": [
    "train_data.describe()"
   ],
   "metadata": {
    "collapsed": false,
    "pycharm": {
     "name": "#%%\n"
    }
   }
  },
  {
   "cell_type": "code",
   "execution_count": 5,
   "outputs": [
    {
     "name": "stdout",
     "output_type": "stream",
     "text": [
      "<class 'pandas.core.frame.DataFrame'>\n",
      "RangeIndex: 418 entries, 0 to 417\n",
      "Data columns (total 11 columns):\n",
      " #   Column       Non-Null Count  Dtype  \n",
      "---  ------       --------------  -----  \n",
      " 0   PassengerId  418 non-null    int64  \n",
      " 1   Pclass       418 non-null    int64  \n",
      " 2   Name         418 non-null    object \n",
      " 3   Sex          418 non-null    object \n",
      " 4   Age          332 non-null    float64\n",
      " 5   SibSp        418 non-null    int64  \n",
      " 6   Parch        418 non-null    int64  \n",
      " 7   Ticket       418 non-null    object \n",
      " 8   Fare         417 non-null    float64\n",
      " 9   Cabin        91 non-null     object \n",
      " 10  Embarked     418 non-null    object \n",
      "dtypes: float64(2), int64(4), object(5)\n",
      "memory usage: 36.0+ KB\n"
     ]
    }
   ],
   "source": [
    "test_data.info()"
   ],
   "metadata": {
    "collapsed": false,
    "pycharm": {
     "name": "#%%\n"
    }
   }
  },
  {
   "cell_type": "code",
   "execution_count": 6,
   "outputs": [
    {
     "data": {
      "text/plain": "       PassengerId    Survived      Pclass         Age       SibSp  \\\ncount   891.000000  891.000000  891.000000  714.000000  891.000000   \nmean    446.000000    0.383838    2.308642   29.699118    0.523008   \nstd     257.353842    0.486592    0.836071   14.526497    1.102743   \nmin       1.000000    0.000000    1.000000    0.420000    0.000000   \n25%     223.500000    0.000000    2.000000   20.125000    0.000000   \n50%     446.000000    0.000000    3.000000   28.000000    0.000000   \n75%     668.500000    1.000000    3.000000   38.000000    1.000000   \nmax     891.000000    1.000000    3.000000   80.000000    8.000000   \n\n            Parch        Fare   sex_class  \ncount  891.000000  891.000000  891.000000  \nmean     0.381594   32.204208    0.647587  \nstd      0.806057   49.693429    0.477990  \nmin      0.000000    0.000000    0.000000  \n25%      0.000000    7.910400    0.000000  \n50%      0.000000   14.454200    1.000000  \n75%      0.000000   31.000000    1.000000  \nmax      6.000000  512.329200    1.000000  ",
      "text/html": "<div>\n<style scoped>\n    .dataframe tbody tr th:only-of-type {\n        vertical-align: middle;\n    }\n\n    .dataframe tbody tr th {\n        vertical-align: top;\n    }\n\n    .dataframe thead th {\n        text-align: right;\n    }\n</style>\n<table border=\"1\" class=\"dataframe\">\n  <thead>\n    <tr style=\"text-align: right;\">\n      <th></th>\n      <th>PassengerId</th>\n      <th>Survived</th>\n      <th>Pclass</th>\n      <th>Age</th>\n      <th>SibSp</th>\n      <th>Parch</th>\n      <th>Fare</th>\n      <th>sex_class</th>\n    </tr>\n  </thead>\n  <tbody>\n    <tr>\n      <th>count</th>\n      <td>891.000000</td>\n      <td>891.000000</td>\n      <td>891.000000</td>\n      <td>714.000000</td>\n      <td>891.000000</td>\n      <td>891.000000</td>\n      <td>891.000000</td>\n      <td>891.000000</td>\n    </tr>\n    <tr>\n      <th>mean</th>\n      <td>446.000000</td>\n      <td>0.383838</td>\n      <td>2.308642</td>\n      <td>29.699118</td>\n      <td>0.523008</td>\n      <td>0.381594</td>\n      <td>32.204208</td>\n      <td>0.647587</td>\n    </tr>\n    <tr>\n      <th>std</th>\n      <td>257.353842</td>\n      <td>0.486592</td>\n      <td>0.836071</td>\n      <td>14.526497</td>\n      <td>1.102743</td>\n      <td>0.806057</td>\n      <td>49.693429</td>\n      <td>0.477990</td>\n    </tr>\n    <tr>\n      <th>min</th>\n      <td>1.000000</td>\n      <td>0.000000</td>\n      <td>1.000000</td>\n      <td>0.420000</td>\n      <td>0.000000</td>\n      <td>0.000000</td>\n      <td>0.000000</td>\n      <td>0.000000</td>\n    </tr>\n    <tr>\n      <th>25%</th>\n      <td>223.500000</td>\n      <td>0.000000</td>\n      <td>2.000000</td>\n      <td>20.125000</td>\n      <td>0.000000</td>\n      <td>0.000000</td>\n      <td>7.910400</td>\n      <td>0.000000</td>\n    </tr>\n    <tr>\n      <th>50%</th>\n      <td>446.000000</td>\n      <td>0.000000</td>\n      <td>3.000000</td>\n      <td>28.000000</td>\n      <td>0.000000</td>\n      <td>0.000000</td>\n      <td>14.454200</td>\n      <td>1.000000</td>\n    </tr>\n    <tr>\n      <th>75%</th>\n      <td>668.500000</td>\n      <td>1.000000</td>\n      <td>3.000000</td>\n      <td>38.000000</td>\n      <td>1.000000</td>\n      <td>0.000000</td>\n      <td>31.000000</td>\n      <td>1.000000</td>\n    </tr>\n    <tr>\n      <th>max</th>\n      <td>891.000000</td>\n      <td>1.000000</td>\n      <td>3.000000</td>\n      <td>80.000000</td>\n      <td>8.000000</td>\n      <td>6.000000</td>\n      <td>512.329200</td>\n      <td>1.000000</td>\n    </tr>\n  </tbody>\n</table>\n</div>"
     },
     "execution_count": 6,
     "metadata": {},
     "output_type": "execute_result"
    }
   ],
   "source": [
    "# 性别处理 男1女0\n",
    "sex_class_list = []\n",
    "sex_class_list2 = []\n",
    "sex_class_map = {'male': 1, 'female': 0}\n",
    "\n",
    "for idx, row in train_data.iterrows():\n",
    "    if row['Sex'] == 'male':\n",
    "        sex_class_list.append(1)\n",
    "    elif row['Sex'] == 'female':\n",
    "        sex_class_list.append(0)\n",
    "    else:\n",
    "        sex_class_list.append(-1)\n",
    "train_data['sex_class'] = sex_class_list\n",
    "# train_data['sex_class'] = train_data['Sex'].map(sex_class_map)\n",
    "\n",
    "for idx, row in test_data.iterrows():\n",
    "    if row['Sex'] == 'male':\n",
    "        sex_class_list2.append(1)\n",
    "    elif row['Sex'] == 'female':\n",
    "        sex_class_list2.append(0)\n",
    "    else:\n",
    "        sex_class_list2.append(-1)\n",
    "test_data['sex_class'] = sex_class_list2\n",
    "\n",
    "train_data.describe()"
   ],
   "metadata": {
    "collapsed": false,
    "pycharm": {
     "name": "#%%\n"
    }
   }
  },
  {
   "cell_type": "code",
   "execution_count": 7,
   "outputs": [
    {
     "name": "stdout",
     "output_type": "stream",
     "text": [
      "{nan, 'Q', 'C', 'S'}\n",
      "   PassengerId  Survived  Pclass  \\\n",
      "0            1         0       3   \n",
      "1            2         1       1   \n",
      "2            3         1       3   \n",
      "3            4         1       1   \n",
      "4            5         0       3   \n",
      "\n",
      "                                                Name     Sex   Age  SibSp  \\\n",
      "0                            Braund, Mr. Owen Harris    male  22.0      1   \n",
      "1  Cumings, Mrs. John Bradley (Florence Briggs Th...  female  38.0      1   \n",
      "2                             Heikkinen, Miss. Laina  female  26.0      0   \n",
      "3       Futrelle, Mrs. Jacques Heath (Lily May Peel)  female  35.0      1   \n",
      "4                           Allen, Mr. William Henry    male  35.0      0   \n",
      "\n",
      "   Parch            Ticket     Fare Cabin Embarked  sex_class  embarked_class  \n",
      "0      0         A/5 21171   7.2500   NaN        S          1               1  \n",
      "1      0          PC 17599  71.2833   C85        C          0               3  \n",
      "2      0  STON/O2. 3101282   7.9250   NaN        S          0               1  \n",
      "3      0            113803  53.1000  C123        S          0               1  \n",
      "4      0            373450   8.0500   NaN        S          1               1  \n",
      "       PassengerId    Survived      Pclass         Age       SibSp  \\\n",
      "count   891.000000  891.000000  891.000000  714.000000  891.000000   \n",
      "mean    446.000000    0.383838    2.308642   29.699118    0.523008   \n",
      "std     257.353842    0.486592    0.836071   14.526497    1.102743   \n",
      "min       1.000000    0.000000    1.000000    0.420000    0.000000   \n",
      "25%     223.500000    0.000000    2.000000   20.125000    0.000000   \n",
      "50%     446.000000    0.000000    3.000000   28.000000    0.000000   \n",
      "75%     668.500000    1.000000    3.000000   38.000000    1.000000   \n",
      "max     891.000000    1.000000    3.000000   80.000000    8.000000   \n",
      "\n",
      "            Parch        Fare   sex_class  embarked_class  \n",
      "count  891.000000  891.000000  891.000000      891.000000  \n",
      "mean     0.381594   32.204208    0.647587        1.461279  \n",
      "std      0.806057   49.693429    0.477990        0.794231  \n",
      "min      0.000000    0.000000    0.000000        0.000000  \n",
      "25%      0.000000    7.910400    0.000000        1.000000  \n",
      "50%      0.000000   14.454200    1.000000        1.000000  \n",
      "75%      0.000000   31.000000    1.000000        2.000000  \n",
      "max      6.000000  512.329200    1.000000        3.000000  \n"
     ]
    }
   ],
   "source": [
    "# embarked 处理\n",
    "print(set(train_data['Embarked'].values))\n",
    "\n",
    "embarked_class_list = []\n",
    "embarked_class_list2 = []\n",
    "\n",
    "for idx, row in train_data.iterrows():\n",
    "    if row['Embarked'] == 'S':\n",
    "        embarked_class_list.append(1)\n",
    "    elif row['Embarked'] == 'Q':\n",
    "        embarked_class_list.append(2)\n",
    "    elif row['Embarked'] == 'C':\n",
    "        embarked_class_list.append(3)\n",
    "    else:\n",
    "        embarked_class_list.append(0)\n",
    "train_data['embarked_class'] = embarked_class_list\n",
    "\n",
    "for idx, row in test_data.iterrows():\n",
    "    if row['Embarked'] == 'S':\n",
    "        embarked_class_list2.append(1)\n",
    "    elif row['Embarked'] == 'Q':\n",
    "        embarked_class_list2.append(2)\n",
    "    elif row['Embarked'] == 'C':\n",
    "        embarked_class_list2.append(3)\n",
    "    else:\n",
    "        embarked_class_list2.append(0)\n",
    "test_data['embarked_class'] = embarked_class_list2\n",
    "\n",
    "print(train_data.head())\n",
    "print(train_data.describe())"
   ],
   "metadata": {
    "collapsed": false,
    "pycharm": {
     "name": "#%%\n"
    }
   }
  },
  {
   "cell_type": "code",
   "execution_count": 8,
   "outputs": [
    {
     "name": "stdout",
     "output_type": "stream",
     "text": [
      "{nan, 'A26', 'F E69', 'B22', 'A16', 'F33', 'E25', 'B102', 'C123', 'B30', 'D30', 'C46', 'E46', 'E77', 'B35', 'D21', 'C125', 'D20', 'D', 'E31', 'D6', 'E34', 'D33', 'B20', 'C7', 'E12', 'C52', 'E38', 'E33', 'D28', 'B38', 'B101', 'C128', 'D47', 'C32', 'D56', 'G6', 'C90', 'B58 B60', 'E67', 'A23', 'C45', 'F G73', 'B4', 'C91', 'B96 B98', 'E44', 'C148', 'B57 B59 B63 B66', 'B50', 'B94', 'T', 'C118', 'D26', 'A34', 'E58', 'C23 C25 C27', 'B82 B84', 'A7', 'B28', 'B78', 'A31', 'B37', 'D10 D12', 'C106', 'D19', 'C86', 'B86', 'C65', 'C2', 'D50', 'E50', 'F4', 'C54', 'F38', 'A36', 'B42', 'C83', 'A6', 'C22 C26', 'C95', 'C50', 'B80', 'C99', 'E8', 'C30', 'D35', 'A19', 'D45', 'B39', 'B73', 'E40', 'F2', 'D9', 'C93', 'A14', 'D15', 'A5', 'C111', 'B49', 'E68', 'B71', 'B79', 'D37', 'B3', 'C47', 'C124', 'B41', 'A20', 'C70', 'A32', 'E10', 'D48', 'E63', 'B18', 'E49', 'D49', 'C62 C64', 'F G63', 'E24', 'D46', 'C126', 'C82', 'C92', 'D11', 'A10', 'C49', 'D7', 'C68', 'E121', 'A24', 'E36', 'C87', 'C103', 'B5', 'C101', 'E101', 'B51 B53 B55', 'C85', 'D17', 'B69', 'D36', 'E17', 'C110', 'C104', 'B77', 'C78', 'B19'}\n",
      "   PassengerId  Survived  Pclass  \\\n",
      "0            1         0       3   \n",
      "1            2         1       1   \n",
      "2            3         1       3   \n",
      "3            4         1       1   \n",
      "4            5         0       3   \n",
      "\n",
      "                                                Name     Sex   Age  SibSp  \\\n",
      "0                            Braund, Mr. Owen Harris    male  22.0      1   \n",
      "1  Cumings, Mrs. John Bradley (Florence Briggs Th...  female  38.0      1   \n",
      "2                             Heikkinen, Miss. Laina  female  26.0      0   \n",
      "3       Futrelle, Mrs. Jacques Heath (Lily May Peel)  female  35.0      1   \n",
      "4                           Allen, Mr. William Henry    male  35.0      0   \n",
      "\n",
      "   Parch            Ticket     Fare Cabin Embarked  sex_class  embarked_class  \\\n",
      "0      0         A/5 21171   7.2500   NaN        S          1               1   \n",
      "1      0          PC 17599  71.2833   C85        C          0               3   \n",
      "2      0  STON/O2. 3101282   7.9250   NaN        S          0               1   \n",
      "3      0            113803  53.1000  C123        S          0               1   \n",
      "4      0            373450   8.0500   NaN        S          1               1   \n",
      "\n",
      "   age_class  \n",
      "0          6  \n",
      "1          7  \n",
      "2          6  \n",
      "3          7  \n",
      "4          7  \n",
      "       PassengerId    Survived      Pclass         Age       SibSp  \\\n",
      "count   891.000000  891.000000  891.000000  714.000000  891.000000   \n",
      "mean    446.000000    0.383838    2.308642   29.699118    0.523008   \n",
      "std     257.353842    0.486592    0.836071   14.526497    1.102743   \n",
      "min       1.000000    0.000000    1.000000    0.420000    0.000000   \n",
      "25%     223.500000    0.000000    2.000000   20.125000    0.000000   \n",
      "50%     446.000000    0.000000    3.000000   28.000000    0.000000   \n",
      "75%     668.500000    1.000000    3.000000   38.000000    1.000000   \n",
      "max     891.000000    1.000000    3.000000   80.000000    8.000000   \n",
      "\n",
      "            Parch        Fare   sex_class  embarked_class   age_class  \n",
      "count  891.000000  891.000000  891.000000      891.000000  891.000000  \n",
      "mean     0.381594   32.204208    0.647587        1.461279    7.433221  \n",
      "std      0.806057   49.693429    0.477990        0.794231    2.752481  \n",
      "min      0.000000    0.000000    0.000000        0.000000    1.000000  \n",
      "25%      0.000000    7.910400    0.000000        1.000000    6.000000  \n",
      "50%      0.000000   14.454200    1.000000        1.000000    7.000000  \n",
      "75%      0.000000   31.000000    1.000000        2.000000    9.000000  \n",
      "max      6.000000  512.329200    1.000000        3.000000   12.000000  \n"
     ]
    }
   ],
   "source": [
    "# Age 处理\n",
    "print(set(train_data['Cabin'].values))\n",
    "\n",
    "age_class_list = []\n",
    "age_class_list2 = []\n",
    "\n",
    "for idx, row in train_data.iterrows():\n",
    "    if row['Age'] <= 1:\n",
    "        age_class_list.append(1)\n",
    "    elif row['Age'] <= 3:\n",
    "        age_class_list.append(2)\n",
    "    elif row['Age'] <= 5:\n",
    "        age_class_list.append(3)\n",
    "    elif row['Age'] <= 10:\n",
    "        age_class_list.append(4)\n",
    "    elif row['Age'] <= 20:\n",
    "        age_class_list.append(5)\n",
    "    elif row['Age'] <= 30:\n",
    "        age_class_list.append(6)\n",
    "    elif row['Age'] <= 40:\n",
    "        age_class_list.append(7)\n",
    "    elif row['Age'] <= 50:\n",
    "        age_class_list.append(8)\n",
    "    elif row['Age'] <= 60:\n",
    "        age_class_list.append(9)\n",
    "    elif row['Age'] <= 70:\n",
    "        age_class_list.append(10)\n",
    "    elif row['Age'] <= 80:\n",
    "        age_class_list.append(11)\n",
    "    else:\n",
    "        age_class_list.append(12)\n",
    "train_data['age_class'] = age_class_list\n",
    "\n",
    "for idx, row in test_data.iterrows():\n",
    "    if row['Age'] <= 1:\n",
    "        age_class_list2.append(1)\n",
    "    elif row['Age'] <= 3:\n",
    "        age_class_list2.append(2)\n",
    "    elif row['Age'] <= 5:\n",
    "        age_class_list2.append(3)\n",
    "    elif row['Age'] <= 10:\n",
    "        age_class_list2.append(4)\n",
    "    elif row['Age'] <= 20:\n",
    "        age_class_list2.append(5)\n",
    "    elif row['Age'] <= 30:\n",
    "        age_class_list2.append(6)\n",
    "    elif row['Age'] <= 40:\n",
    "        age_class_list2.append(7)\n",
    "    elif row['Age'] <= 50:\n",
    "        age_class_list2.append(8)\n",
    "    elif row['Age'] <= 60:\n",
    "        age_class_list2.append(9)\n",
    "    elif row['Age'] <= 70:\n",
    "        age_class_list2.append(10)\n",
    "    elif row['Age'] <= 80:\n",
    "        age_class_list2.append(11)\n",
    "    else:\n",
    "        age_class_list2.append(12)\n",
    "test_data['age_class'] = age_class_list2\n",
    "\n",
    "print(train_data.head())\n",
    "print(train_data.describe())"
   ],
   "metadata": {
    "collapsed": false,
    "pycharm": {
     "name": "#%%\n"
    }
   }
  },
  {
   "cell_type": "code",
   "execution_count": 9,
   "outputs": [
    {
     "name": "stdout",
     "output_type": "stream",
     "text": [
      "   PassengerId  Survived  Pclass  \\\n",
      "0            1         0       3   \n",
      "1            2         1       1   \n",
      "2            3         1       3   \n",
      "3            4         1       1   \n",
      "4            5         0       3   \n",
      "\n",
      "                                                Name     Sex   Age  SibSp  \\\n",
      "0                            Braund, Mr. Owen Harris    male  22.0      1   \n",
      "1  Cumings, Mrs. John Bradley (Florence Briggs Th...  female  38.0      1   \n",
      "2                             Heikkinen, Miss. Laina  female  26.0      0   \n",
      "3       Futrelle, Mrs. Jacques Heath (Lily May Peel)  female  35.0      1   \n",
      "4                           Allen, Mr. William Henry    male  35.0      0   \n",
      "\n",
      "   Parch            Ticket     Fare Cabin Embarked  sex_class  embarked_class  \\\n",
      "0      0         A/5 21171   7.2500   NaN        S          1               1   \n",
      "1      0          PC 17599  71.2833   C85        C          0               3   \n",
      "2      0  STON/O2. 3101282   7.9250   NaN        S          0               1   \n",
      "3      0            113803  53.1000  C123        S          0               1   \n",
      "4      0            373450   8.0500   NaN        S          1               1   \n",
      "\n",
      "   age_class  fare_class  \n",
      "0          6           1  \n",
      "1          7           8  \n",
      "2          6           1  \n",
      "3          7           6  \n",
      "4          7           1  \n",
      "       PassengerId    Survived      Pclass         Age       SibSp  \\\n",
      "count   891.000000  891.000000  891.000000  714.000000  891.000000   \n",
      "mean    446.000000    0.383838    2.308642   29.699118    0.523008   \n",
      "std     257.353842    0.486592    0.836071   14.526497    1.102743   \n",
      "min       1.000000    0.000000    1.000000    0.420000    0.000000   \n",
      "25%     223.500000    0.000000    2.000000   20.125000    0.000000   \n",
      "50%     446.000000    0.000000    3.000000   28.000000    0.000000   \n",
      "75%     668.500000    1.000000    3.000000   38.000000    1.000000   \n",
      "max     891.000000    1.000000    3.000000   80.000000    8.000000   \n",
      "\n",
      "            Parch        Fare   sex_class  embarked_class   age_class  \\\n",
      "count  891.000000  891.000000  891.000000      891.000000  891.000000   \n",
      "mean     0.381594   32.204208    0.647587        1.461279    7.433221   \n",
      "std      0.806057   49.693429    0.477990        0.794231    2.752481   \n",
      "min      0.000000    0.000000    0.000000        0.000000    1.000000   \n",
      "25%      0.000000    7.910400    0.000000        1.000000    6.000000   \n",
      "50%      0.000000   14.454200    1.000000        1.000000    7.000000   \n",
      "75%      0.000000   31.000000    1.000000        2.000000    9.000000   \n",
      "max      6.000000  512.329200    1.000000        3.000000   12.000000   \n",
      "\n",
      "       fare_class  \n",
      "count  891.000000  \n",
      "mean     3.129068  \n",
      "std      2.862810  \n",
      "min      0.000000  \n",
      "25%      1.000000  \n",
      "50%      2.000000  \n",
      "75%      4.000000  \n",
      "max     11.000000  \n"
     ]
    }
   ],
   "source": [
    "# fare 处理\n",
    "fare_class_list = []\n",
    "fare_class_list2 = []\n",
    "\n",
    "for idx, row in train_data.iterrows():\n",
    "    if row['Fare'] <= 0:\n",
    "        fare_class_list.append(0)\n",
    "    elif row['Fare'] <= 10:\n",
    "        fare_class_list.append(1)\n",
    "    elif row['Fare'] <= 20:\n",
    "        fare_class_list.append(2)\n",
    "    elif row['Fare'] <= 30:\n",
    "        fare_class_list.append(3)\n",
    "    elif row['Fare'] <= 40:\n",
    "        fare_class_list.append(4)\n",
    "    elif row['Fare'] <= 50:\n",
    "        fare_class_list.append(5)\n",
    "    elif row['Fare'] <= 60:\n",
    "        fare_class_list.append(6)\n",
    "    elif row['Fare'] <= 70:\n",
    "        fare_class_list.append(7)\n",
    "    elif row['Fare'] <= 80:\n",
    "        fare_class_list.append(8)\n",
    "    elif row['Fare'] <= 90:\n",
    "        fare_class_list.append(9)\n",
    "    elif row['Fare'] <= 100:\n",
    "        fare_class_list.append(10)\n",
    "    else:\n",
    "        fare_class_list.append(11)\n",
    "train_data['fare_class'] = fare_class_list\n",
    "\n",
    "for idx, row in test_data.iterrows():\n",
    "    if row['Fare'] <= 0:\n",
    "        fare_class_list2.append(0)\n",
    "    elif row['Fare'] <= 10:\n",
    "        fare_class_list2.append(1)\n",
    "    elif row['Fare'] <= 20:\n",
    "        fare_class_list2.append(2)\n",
    "    elif row['Fare'] <= 30:\n",
    "        fare_class_list2.append(3)\n",
    "    elif row['Fare'] <= 40:\n",
    "        fare_class_list2.append(4)\n",
    "    elif row['Fare'] <= 50:\n",
    "        fare_class_list2.append(5)\n",
    "    elif row['Fare'] <= 60:\n",
    "        fare_class_list2.append(6)\n",
    "    elif row['Fare'] <= 70:\n",
    "        fare_class_list2.append(7)\n",
    "    elif row['Fare'] <= 80:\n",
    "        fare_class_list2.append(8)\n",
    "    elif row['Fare'] <= 90:\n",
    "        fare_class_list2.append(9)\n",
    "    elif row['Fare'] <= 100:\n",
    "        fare_class_list2.append(10)\n",
    "    else:\n",
    "        fare_class_list2.append(11)\n",
    "test_data['fare_class'] = fare_class_list2\n",
    "\n",
    "print(train_data.head())\n",
    "print(train_data.describe())"
   ],
   "metadata": {
    "collapsed": false,
    "pycharm": {
     "name": "#%%\n"
    }
   }
  },
  {
   "cell_type": "code",
   "execution_count": 10,
   "outputs": [
    {
     "name": "stdout",
     "output_type": "stream",
     "text": [
      "0.8024691358024691\n"
     ]
    }
   ],
   "source": [
    "# LR模型\n",
    "\n",
    "from sklearn.model_selection import train_test_split\n",
    "from sklearn.linear_model import LogisticRegression\n",
    "\n",
    "feature_names = [\n",
    "    'Pclass',\n",
    "    'SibSp',\n",
    "    'Parch',\n",
    "    'sex_class',\n",
    "    'embarked_class',\n",
    "    'age_class',\n",
    "    'fare_class'\n",
    "]\n",
    "\n",
    "X_train = train_data[feature_names]\n",
    "y_train = train_data['Survived']\n",
    "lr = LogisticRegression()\n",
    "lr.fit(X_train, y_train)\n",
    "print(lr.score(X_train, y_train))"
   ],
   "metadata": {
    "collapsed": false,
    "pycharm": {
     "name": "#%%\n"
    }
   }
  },
  {
   "cell_type": "code",
   "execution_count": 12,
   "outputs": [
    {
     "name": "stdout",
     "output_type": "stream",
     "text": [
      "[16:26:34] WARNING: C:/Users/Administrator/workspace/xgboost-win64_release_1.4.0/src/learner.cc:1095: Starting in XGBoost 1.3.0, the default evaluation metric used with the objective 'binary:logistic' was changed from 'error' to 'logloss'. Explicitly set eval_metric if you'd like to restore the old behavior.\n"
     ]
    },
    {
     "name": "stderr",
     "output_type": "stream",
     "text": [
      "D:\\softs\\anaconda\\lib\\site-packages\\xgboost\\sklearn.py:1146: UserWarning: The use of label encoder in XGBClassifier is deprecated and will be removed in a future release. To remove this warning, do the following: 1) Pass option use_label_encoder=False when constructing XGBClassifier object; and 2) Encode your labels (y) as integers starting with 0, i.e. 0, 1, 2, ..., [num_class - 1].\n",
      "  warnings.warn(label_encoder_deprecation_msg, UserWarning)\n"
     ]
    },
    {
     "name": "stdout",
     "output_type": "stream",
     "text": [
      "0.9057239057239057\n"
     ]
    }
   ],
   "source": [
    "# XGB模型\n",
    "import xgboost\n",
    "\n",
    "xgb = xgboost.XGBClassifier(\n",
    "    max_depth=6,\n",
    "    n_estimators=500,\n",
    "    learning_rate=0.1\n",
    ")\n",
    "xgb.fit(X_train, y_train)\n",
    "print(xgb.score(X_train, y_train))"
   ],
   "metadata": {
    "collapsed": false,
    "pycharm": {
     "name": "#%%\n"
    }
   }
  },
  {
   "cell_type": "code",
   "execution_count": 13,
   "outputs": [
    {
     "name": "stdout",
     "output_type": "stream",
     "text": [
      "[0 0 0 0 0 0 1 0 1 0 0 0 1 0 1 1 0 0 0 0 1 1 1 1 1 0 1 0 0 0 0 0 1 0 1 0 0\n",
      " 1 0 1 0 0 0 1 1 0 0 0 1 1 1 0 1 1 1 0 0 0 0 1 0 0 0 1 1 1 1 0 0 1 1 0 1 1\n",
      " 1 1 0 1 0 1 1 0 0 0 1 0 1 0 1 1 0 0 1 0 1 0 1 0 0 0 1 0 0 0 0 0 0 0 0 0 0\n",
      " 1 1 1 1 1 0 1 1 1 1 0 1 0 0 0 0 1 0 0 0 0 0 0 0 0 0 0 1 0 0 1 0 0 0 0 0 0\n",
      " 0 0 1 0 0 1 0 0 1 1 0 1 1 1 1 0 0 0 0 0 1 1 0 0 0 0 0 1 1 1 1 1 0 1 1 0 1\n",
      " 0 1 0 0 0 0 0 0 0 1 0 1 0 0 0 1 1 0 1 0 0 0 0 1 0 0 0 0 0 1 0 1 0 1 0 1 0\n",
      " 1 0 1 0 0 1 0 0 0 1 0 0 1 0 0 0 1 1 1 1 0 0 0 0 1 0 1 0 1 0 0 0 0 0 0 0 1\n",
      " 0 0 0 1 1 0 0 0 0 0 0 0 0 1 1 0 1 0 0 0 0 1 1 1 0 0 0 0 0 0 0 0 1 0 0 0 0\n",
      " 1 0 0 0 0 1 0 0 1 1 0 1 0 0 0 0 0 0 1 1 0 0 0 0 0 0 0 1 1 0 1 0 0 0 1 0 0\n",
      " 0 0 1 0 0 0 0 0 0 0 1 0 0 0 0 0 1 1 0 0 0 1 0 1 0 0 0 0 1 1 0 1 0 0 1 1 0\n",
      " 0 1 0 0 1 1 0 0 0 0 0 0 1 0 1 1 0 0 0 0 0 1 0 0 0 1 0 1 0 0 1 0 1 0 0 0 0\n",
      " 0 1 1 1 1 1 0 1 0 0 1]\n"
     ]
    }
   ],
   "source": [
    "# 输出预测结果\n",
    "X_test = test_data[feature_names]\n",
    "rst = xgb.predict(X_test)\n",
    "print(rst)\n",
    "test_data['Survived'] = rst\n",
    "# output = test_data['PassengerId', 'Survived']\n",
    "# output.to_csv(\"./submission.csv\")\n",
    "test_data.to_csv(\"./tmp/submission.csv\", index=False, columns=['PassengerId', 'Survived'])"
   ],
   "metadata": {
    "collapsed": false,
    "pycharm": {
     "name": "#%%\n"
    }
   }
  }
 ],
 "metadata": {
  "kernelspec": {
   "name": "python3",
   "language": "python",
   "display_name": "Python 3"
  },
  "language_info": {
   "codemirror_mode": {
    "name": "ipython",
    "version": 2
   },
   "file_extension": ".py",
   "mimetype": "text/x-python",
   "name": "python",
   "nbconvert_exporter": "python",
   "pygments_lexer": "ipython2",
   "version": "2.7.6"
  }
 },
 "nbformat": 4,
 "nbformat_minor": 0
}